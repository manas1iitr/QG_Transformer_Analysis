{
  "nbformat": 4,
  "nbformat_minor": 0,
  "metadata": {
    "colab": {
      "name": "StoryOfHeads.ipynb",
      "provenance": [],
      "collapsed_sections": [],
      "authorship_tag": "ABX9TyORtIOLMMjSXczqR7DPIkPa",
      "include_colab_link": true
    },
    "kernelspec": {
      "name": "python3",
      "display_name": "Python 3"
    }
  },
  "cells": [
    {
      "cell_type": "markdown",
      "metadata": {
        "id": "view-in-github",
        "colab_type": "text"
      },
      "source": [
        "<a href=\"https://colab.research.google.com/github/manas1iitr/QG_Transformer_Analysis/blob/master/StoryOfHeads.ipynb\" target=\"_parent\"><img src=\"https://colab.research.google.com/assets/colab-badge.svg\" alt=\"Open In Colab\"/></a>"
      ]
    },
    {
      "cell_type": "code",
      "metadata": {
        "id": "TKOb2OnLNwdI",
        "colab_type": "code",
        "outputId": "6d0a98dc-3ec2-4c17-cc50-3311bbf8c1fa",
        "colab": {
          "base_uri": "https://localhost:8080/",
          "height": 148
        }
      },
      "source": [
        "!git clone https://github.com/lena-voita/the-story-of-heads.git"
      ],
      "execution_count": 0,
      "outputs": [
        {
          "output_type": "stream",
          "text": [
            "Cloning into 'the-story-of-heads'...\n",
            "remote: Enumerating objects: 130, done.\u001b[K\n",
            "remote: Counting objects: 100% (130/130), done.\u001b[K\n",
            "remote: Compressing objects: 100% (117/117), done.\u001b[K\n",
            "remote: Total 130 (delta 40), reused 81 (delta 8), pack-reused 0\u001b[K\n",
            "Receiving objects: 100% (130/130), 20.25 MiB | 26.62 MiB/s, done.\n",
            "Resolving deltas: 100% (40/40), done.\n"
          ],
          "name": "stdout"
        }
      ]
    },
    {
      "cell_type": "code",
      "metadata": {
        "id": "itg5a_muOjPX",
        "colab_type": "code",
        "outputId": "0cdb7929-f45e-49dd-bd76-7b88775595ca",
        "colab": {
          "base_uri": "https://localhost:8080/",
          "height": 1000
        }
      },
      "source": [
        "!pip install -r the-story-of-heads/requirements.txt"
      ],
      "execution_count": 0,
      "outputs": [
        {
          "output_type": "stream",
          "text": [
            "Collecting tensorflow-gpu<=1.14.0rc0,>=1.8.0\n",
            "\u001b[?25l  Downloading https://files.pythonhosted.org/packages/63/e5/6f47e0e3b8e9215efb3f41692ab47991d96cb3ccc172cb578435cbcb4959/tensorflow_gpu-1.13.2-cp36-cp36m-manylinux1_x86_64.whl (345.0MB)\n",
            "\u001b[K     |████████████████████████████████| 345.0MB 46kB/s \n",
            "\u001b[?25hCollecting bintrees\n",
            "\u001b[?25l  Downloading https://files.pythonhosted.org/packages/ba/a2/91500400b145c8ee668992654ff43afec3ebbb8ed80bc5f0717dd07a7349/bintrees-2.1.0.zip (107kB)\n",
            "\u001b[K     |████████████████████████████████| 112kB 50.3MB/s \n",
            "\u001b[?25hCollecting horovod\n",
            "\u001b[?25l  Downloading https://files.pythonhosted.org/packages/c0/31/dae1f224a284ccaf0fd700565a53658bfba9c3d5964719305953e72a11e0/horovod-0.19.1.tar.gz (2.9MB)\n",
            "\u001b[K     |████████████████████████████████| 2.9MB 37.4MB/s \n",
            "\u001b[?25hRequirement already satisfied: sortedcontainers in /usr/local/lib/python3.6/dist-packages (from -r the-story-of-heads/requirements.txt (line 4)) (2.1.0)\n",
            "Requirement already satisfied: cffi in /usr/local/lib/python3.6/dist-packages (from -r the-story-of-heads/requirements.txt (line 5)) (1.14.0)\n",
            "Requirement already satisfied: scipy in /usr/local/lib/python3.6/dist-packages (from -r the-story-of-heads/requirements.txt (line 6)) (1.4.1)\n",
            "Requirement already satisfied: regex in /usr/local/lib/python3.6/dist-packages (from -r the-story-of-heads/requirements.txt (line 7)) (2019.12.20)\n",
            "Requirement already satisfied: nltk in /usr/local/lib/python3.6/dist-packages (from -r the-story-of-heads/requirements.txt (line 8)) (3.2.5)\n",
            "Collecting subword_nmt\n",
            "  Downloading https://files.pythonhosted.org/packages/74/60/6600a7bc09e7ab38bc53a48a20d8cae49b837f93f5842a41fe513a694912/subword_nmt-0.3.7-py2.py3-none-any.whl\n",
            "Collecting mosestokenizer\n",
            "  Downloading https://files.pythonhosted.org/packages/4b/b3/c0af235b16c4f44a2828ef017f7947d1262b2646e440f85c6a2ff26a8c6f/mosestokenizer-1.1.0.tar.gz\n",
            "Requirement already satisfied: absl-py>=0.1.6 in /usr/local/lib/python3.6/dist-packages (from tensorflow-gpu<=1.14.0rc0,>=1.8.0->-r the-story-of-heads/requirements.txt (line 1)) (0.9.0)\n",
            "Requirement already satisfied: astor>=0.6.0 in /usr/local/lib/python3.6/dist-packages (from tensorflow-gpu<=1.14.0rc0,>=1.8.0->-r the-story-of-heads/requirements.txt (line 1)) (0.8.1)\n",
            "Collecting tensorflow-estimator<1.14.0rc0,>=1.13.0\n",
            "\u001b[?25l  Downloading https://files.pythonhosted.org/packages/bb/48/13f49fc3fa0fdf916aa1419013bb8f2ad09674c275b4046d5ee669a46873/tensorflow_estimator-1.13.0-py2.py3-none-any.whl (367kB)\n",
            "\u001b[K     |████████████████████████████████| 368kB 47.6MB/s \n",
            "\u001b[?25hCollecting tensorboard<1.14.0,>=1.13.0\n",
            "\u001b[?25l  Downloading https://files.pythonhosted.org/packages/0f/39/bdd75b08a6fba41f098b6cb091b9e8c7a80e1b4d679a581a0ccd17b10373/tensorboard-1.13.1-py3-none-any.whl (3.2MB)\n",
            "\u001b[K     |████████████████████████████████| 3.2MB 38.8MB/s \n",
            "\u001b[?25hRequirement already satisfied: six>=1.10.0 in /usr/local/lib/python3.6/dist-packages (from tensorflow-gpu<=1.14.0rc0,>=1.8.0->-r the-story-of-heads/requirements.txt (line 1)) (1.12.0)\n",
            "Requirement already satisfied: gast>=0.2.0 in /usr/local/lib/python3.6/dist-packages (from tensorflow-gpu<=1.14.0rc0,>=1.8.0->-r the-story-of-heads/requirements.txt (line 1)) (0.3.3)\n",
            "Requirement already satisfied: keras-applications>=1.0.6 in /usr/local/lib/python3.6/dist-packages (from tensorflow-gpu<=1.14.0rc0,>=1.8.0->-r the-story-of-heads/requirements.txt (line 1)) (1.0.8)\n",
            "Requirement already satisfied: grpcio>=1.8.6 in /usr/local/lib/python3.6/dist-packages (from tensorflow-gpu<=1.14.0rc0,>=1.8.0->-r the-story-of-heads/requirements.txt (line 1)) (1.27.2)\n",
            "Requirement already satisfied: wheel>=0.26 in /usr/local/lib/python3.6/dist-packages (from tensorflow-gpu<=1.14.0rc0,>=1.8.0->-r the-story-of-heads/requirements.txt (line 1)) (0.34.2)\n",
            "Requirement already satisfied: protobuf>=3.6.1 in /usr/local/lib/python3.6/dist-packages (from tensorflow-gpu<=1.14.0rc0,>=1.8.0->-r the-story-of-heads/requirements.txt (line 1)) (3.10.0)\n",
            "Requirement already satisfied: numpy<2.0,>=1.16.0 in /usr/local/lib/python3.6/dist-packages (from tensorflow-gpu<=1.14.0rc0,>=1.8.0->-r the-story-of-heads/requirements.txt (line 1)) (1.18.2)\n",
            "Requirement already satisfied: termcolor>=1.1.0 in /usr/local/lib/python3.6/dist-packages (from tensorflow-gpu<=1.14.0rc0,>=1.8.0->-r the-story-of-heads/requirements.txt (line 1)) (1.1.0)\n",
            "Requirement already satisfied: keras-preprocessing>=1.0.5 in /usr/local/lib/python3.6/dist-packages (from tensorflow-gpu<=1.14.0rc0,>=1.8.0->-r the-story-of-heads/requirements.txt (line 1)) (1.1.0)\n",
            "Requirement already satisfied: cloudpickle in /usr/local/lib/python3.6/dist-packages (from horovod->-r the-story-of-heads/requirements.txt (line 3)) (1.3.0)\n",
            "Requirement already satisfied: psutil in /usr/local/lib/python3.6/dist-packages (from horovod->-r the-story-of-heads/requirements.txt (line 3)) (5.4.8)\n",
            "Requirement already satisfied: pyyaml in /usr/local/lib/python3.6/dist-packages (from horovod->-r the-story-of-heads/requirements.txt (line 3)) (3.13)\n",
            "Requirement already satisfied: pycparser in /usr/local/lib/python3.6/dist-packages (from cffi->-r the-story-of-heads/requirements.txt (line 5)) (2.20)\n",
            "Requirement already satisfied: docopt in /usr/local/lib/python3.6/dist-packages (from mosestokenizer->-r the-story-of-heads/requirements.txt (line 10)) (0.6.2)\n",
            "Collecting openfile\n",
            "  Downloading https://files.pythonhosted.org/packages/93/e6/805db6867faacb488b44ba8e0829ef4de151dd0499f3c5da5f4ad11698a7/openfile-0.0.7-py3-none-any.whl\n",
            "Collecting uctools\n",
            "  Downloading https://files.pythonhosted.org/packages/63/6e/15f479cb4d1168f07d875be369ffc08fa0f900419f71a379aeb2882a775d/uctools-1.2.1.tar.gz\n",
            "Collecting toolwrapper\n",
            "  Downloading https://files.pythonhosted.org/packages/5e/18/e9ead8b464ea9eb945d41922b4cd7e43267f6d2b9f62cd5102912227ea8c/toolwrapper-2.0.0.tar.gz\n",
            "Collecting mock>=2.0.0\n",
            "  Downloading https://files.pythonhosted.org/packages/cd/74/d72daf8dff5b6566db857cfd088907bb0355f5dd2914c4b3ef065c790735/mock-4.0.2-py3-none-any.whl\n",
            "Requirement already satisfied: markdown>=2.6.8 in /usr/local/lib/python3.6/dist-packages (from tensorboard<1.14.0,>=1.13.0->tensorflow-gpu<=1.14.0rc0,>=1.8.0->-r the-story-of-heads/requirements.txt (line 1)) (3.2.1)\n",
            "Requirement already satisfied: werkzeug>=0.11.15 in /usr/local/lib/python3.6/dist-packages (from tensorboard<1.14.0,>=1.13.0->tensorflow-gpu<=1.14.0rc0,>=1.8.0->-r the-story-of-heads/requirements.txt (line 1)) (1.0.1)\n",
            "Requirement already satisfied: h5py in /usr/local/lib/python3.6/dist-packages (from keras-applications>=1.0.6->tensorflow-gpu<=1.14.0rc0,>=1.8.0->-r the-story-of-heads/requirements.txt (line 1)) (2.10.0)\n",
            "Requirement already satisfied: setuptools in /usr/local/lib/python3.6/dist-packages (from protobuf>=3.6.1->tensorflow-gpu<=1.14.0rc0,>=1.8.0->-r the-story-of-heads/requirements.txt (line 1)) (46.0.0)\n",
            "Building wheels for collected packages: bintrees, horovod, mosestokenizer, uctools, toolwrapper\n",
            "  Building wheel for bintrees (setup.py) ... \u001b[?25l\u001b[?25hdone\n",
            "  Created wheel for bintrees: filename=bintrees-2.1.0-cp36-cp36m-linux_x86_64.whl size=178348 sha256=495f45d2370c423c8400873f5103483e5bc0f62c0a5a5f9b089977bed271eca7\n",
            "  Stored in directory: /root/.cache/pip/wheels/6b/6d/b3/d4326a182471a662850c40d047503efcb3a30025b367b631e2\n",
            "  Building wheel for horovod (setup.py) ... \u001b[?25l\u001b[?25hdone\n",
            "  Created wheel for horovod: filename=horovod-0.19.1-cp36-cp36m-linux_x86_64.whl size=16551065 sha256=0a48d88b7cc1644ee0100325482852cb64cf04a9b8d787f56ccc70169207668f\n",
            "  Stored in directory: /root/.cache/pip/wheels/1d/5e/29/c8aa9a4364a3f8f766d08755e9c78d3c0fa137c80635c1cab7\n",
            "  Building wheel for mosestokenizer (setup.py) ... \u001b[?25l\u001b[?25hdone\n",
            "  Created wheel for mosestokenizer: filename=mosestokenizer-1.1.0-cp36-none-any.whl size=49120 sha256=98617f2cc54ff9464a30d24c2577aa056136549a3758a41bbaadcb3358d09a95\n",
            "  Stored in directory: /root/.cache/pip/wheels/a2/e7/48/48d5e0f9c0cd5def2dfd7cb8543945f906448ed1313de24a29\n",
            "  Building wheel for uctools (setup.py) ... \u001b[?25l\u001b[?25hdone\n",
            "  Created wheel for uctools: filename=uctools-1.2.1-cp36-none-any.whl size=3992 sha256=7ca76ab9edea9c12b2c04642c8f98ad8ec3575c99fbd1710577b741c1c474093\n",
            "  Stored in directory: /root/.cache/pip/wheels/f3/97/7b/8e52dff3c5b4e8cd4553518850dc0f19f99a7d7ee99b541f60\n",
            "  Building wheel for toolwrapper (setup.py) ... \u001b[?25l\u001b[?25hdone\n",
            "  Created wheel for toolwrapper: filename=toolwrapper-2.0.0-cp36-none-any.whl size=3282 sha256=eb22a74a0b124eb5ec3d61fc54af4f9ae0af3cc926a1c703eb93ed4d745458c7\n",
            "  Stored in directory: /root/.cache/pip/wheels/37/0a/70/b98e62470e81745e29379a5feefcc42e3eec3f1b854fd7f1c9\n",
            "Successfully built bintrees horovod mosestokenizer uctools toolwrapper\n",
            "\u001b[31mERROR: tensorflow 2.2.0rc2 has requirement tensorboard<2.3.0,>=2.2.0, but you'll have tensorboard 1.13.1 which is incompatible.\u001b[0m\n",
            "\u001b[31mERROR: tensorflow 2.2.0rc2 has requirement tensorflow-estimator<2.3.0,>=2.2.0rc0, but you'll have tensorflow-estimator 1.13.0 which is incompatible.\u001b[0m\n",
            "Installing collected packages: mock, tensorflow-estimator, tensorboard, tensorflow-gpu, bintrees, horovod, subword-nmt, openfile, uctools, toolwrapper, mosestokenizer\n",
            "  Found existing installation: tensorflow-estimator 2.2.0rc0\n",
            "    Uninstalling tensorflow-estimator-2.2.0rc0:\n",
            "      Successfully uninstalled tensorflow-estimator-2.2.0rc0\n",
            "  Found existing installation: tensorboard 2.2.0\n",
            "    Uninstalling tensorboard-2.2.0:\n",
            "      Successfully uninstalled tensorboard-2.2.0\n",
            "Successfully installed bintrees-2.1.0 horovod-0.19.1 mock-4.0.2 mosestokenizer-1.1.0 openfile-0.0.7 subword-nmt-0.3.7 tensorboard-1.13.1 tensorflow-estimator-1.13.0 tensorflow-gpu-1.13.2 toolwrapper-2.0.0 uctools-1.2.1\n"
          ],
          "name": "stdout"
        }
      ]
    },
    {
      "cell_type": "code",
      "metadata": {
        "id": "XUNViF-GPeWA",
        "colab_type": "code",
        "outputId": "d44c1d08-f3b1-43cc-af63-e557b2eaf93a",
        "colab": {
          "base_uri": "https://localhost:8080/",
          "height": 74
        }
      },
      "source": [
        "\n",
        "!cat data/europarl-v7.fr-en.en | moses-tokenizer en | python3 -c \"import sys; print(sys.stdin.read().lower())\" > europarl-v7.en.tok\n",
        "!cat data/europarl-v7.fr-en.fr | moses-tokenizer fr | python3 -c \"import sys; print(sys.stdin.read().lower())\" > europarl-v7.fr.tok"
      ],
      "execution_count": 4,
      "outputs": [
        {
          "output_type": "stream",
          "text": [
            "tcmalloc: large alloc 3707469824 bytes == 0x75448000 @  0x7f42bf4ec1e7 0x5ac0b5 0x5314db 0x50abe1 0x50c5b9 0x508245 0x63546f 0x6388dd 0x6393f3 0x4b0f40 0x7f42bf0e9b97 0x5b2fda\n",
            "tcmalloc: large alloc 4325113856 bytes == 0x781ec000 @  0x7f6465e121e7 0x5ac0b5 0x5314db 0x50abe1 0x50c5b9 0x508245 0x63546f 0x6388dd 0x6393f3 0x4b0f40 0x7f6465a0fb97 0x5b2fda\n"
          ],
          "name": "stdout"
        }
      ]
    },
    {
      "cell_type": "code",
      "metadata": {
        "id": "KbGLnSlNG5Ep",
        "colab_type": "code",
        "colab": {}
      },
      "source": [
        "%%bash\n",
        "cat data/raw-data/europarl-v7.fr-en.en | awk 'NR%20==1' > data/raw-data/europarl-v7.fr-en.test.en\n",
        "cat data/raw-data/europarl-v7.fr-en.en | awk 'NR%20==2' > data/raw-data/europarl-v7.fr-en.dev.en\n",
        "cat data/raw-data/europarl-v7.fr-en.en | awk 'NR%20!=1&&NR%20!=2' > data/raw-data/europarl-v7.fr-en.train.en\n",
        "cat data/raw-data/europarl-v7.fr-en.fr | awk 'NR%20==1' > data/raw-data/europarl-v7.fr-en.test.fr\n",
        "cat data/raw-data/europarl-v7.fr-en.fr | awk 'NR%20==2' > data/raw-data/europarl-v7.fr-en.dev.fr\n",
        "cat data/raw-data/europarl-v7.fr-en.fr | awk 'NR%20!=1&&NR%20!=2' > data/raw-data/europarl-v7.fr-en.train.fr"
      ],
      "execution_count": 0,
      "outputs": []
    },
    {
      "cell_type": "code",
      "metadata": {
        "id": "HFJW_BmHPg3a",
        "colab_type": "code",
        "outputId": "a1c41bdc-9cd1-47e9-9f81-b0d656549ba6",
        "colab": {
          "base_uri": "https://localhost:8080/",
          "height": 74
        }
      },
      "source": [
        "!mkdir data/tokenized\n",
        "!cat data/raw-data/europarl-v7.fr-en.train.en | moses-tokenizer en | python3 -c \"import sys; print(sys.stdin.read().lower())\" > data/tokenized/europarl-v7.fr-en.train.en \n",
        "!cat data/raw-data/europarl-v7.fr-en.dev.en | moses-tokenizer en | python3 -c \"import sys; print(sys.stdin.read().lower())\" > data/tokenized/europarl-v7.fr-en.dev.en\n",
        "!cat data/raw-data/europarl-v7.fr-en.train.fr | moses-tokenizer fr | python3 -c \"import sys; print(sys.stdin.read().lower())\" > data/tokenized/europarl-v7.fr-en.train.fr\n",
        "!cat data/raw-data/europarl-v7.fr-en.dev.fr | moses-tokenizer fr | python3 -c \"import sys; print(sys.stdin.read().lower())\" > data/tokenized/europarl-v7.fr-en.dev.fr\n",
        "# !subword-nmt learn-bpe -s 32000 < europarl-v7.en.tok > bpe_rules.en\n",
        "# !python opensubtitleparser.py"
      ],
      "execution_count": 14,
      "outputs": [
        {
          "output_type": "stream",
          "text": [
            "tcmalloc: large alloc 3336904704 bytes == 0x674d2000 @  0x7f545bba91e7 0x5ac0b5 0x5314db 0x50abe1 0x50c5b9 0x508245 0x63546f 0x6388dd 0x6393f3 0x4b0f40 0x7f545b7a6b97 0x5b2fda\n",
            "tcmalloc: large alloc 3892469760 bytes == 0x7889a000 @  0x7f10d4eb51e7 0x5ac0b5 0x5314db 0x50abe1 0x50c5b9 0x508245 0x63546f 0x6388dd 0x6393f3 0x4b0f40 0x7f10d4ab2b97 0x5b2fda\n"
          ],
          "name": "stdout"
        }
      ]
    },
    {
      "cell_type": "code",
      "metadata": {
        "id": "qZG4okMrG2Pw",
        "colab_type": "code",
        "colab": {
          "base_uri": "https://localhost:8080/",
          "height": 56
        },
        "outputId": "f33a398b-a347-4acf-a73f-7d2755682db6"
      },
      "source": [
        "!mkdir data/bpe_rules\n",
        "!subword-nmt learn-bpe -s 32000 < data/tokenized/europarl-v7.fr-en.train.en > data/bpe_rules/bpe_rules.en\n",
        "!subword-nmt learn-bpe -s 32000 < data/tokenized/europarl-v7.fr-en.train.fr > data/bpe_rules/bpe_rules.fr"
      ],
      "execution_count": 16,
      "outputs": [
        {
          "output_type": "stream",
          "text": [
            "ERROR! Session/line number was not unique in database. History logging moved to new session 62\n"
          ],
          "name": "stdout"
        }
      ]
    },
    {
      "cell_type": "code",
      "metadata": {
        "id": "PZ37RV6ZUEKl",
        "colab_type": "code",
        "outputId": "e7b392e5-dd64-4991-9fca-ace45178b70e",
        "colab": {
          "base_uri": "https://localhost:8080/",
          "height": 64
        }
      },
      "source": [
        "!mkdir ./data/processed-data\n",
        "!./the-story-of-heads/lib/tools/apply_bpe.py  --bpe_rules ./data/bpe_rules/bpe_rules.en  < data/tokenized/europarl-v7.fr-en.train.en > ./data/processed-data/train.en.bpeized\n",
        "!./the-story-of-heads/lib/tools/apply_bpe.py  --bpe_rules ./data/bpe_rules/bpe_rules.en  < data/tokenized/europarl-v7.fr-en.dev.en > ./data/processed-data/dev.en.bpeized\n",
        "!./the-story-of-heads/lib/tools/apply_bpe.py  --bpe_rules ./data/bpe_rules/bpe_rules.fr  < data/tokenized/europarl-v7.fr-en.train.fr > ./data/processed-data/train.fr.bpeized\n",
        "!./the-story-of-heads/lib/tools/apply_bpe.py  --bpe_rules ./data/bpe_rules/bpe_rules.fr  < data/tokenized/europarl-v7.fr-en.dev.fr > ./data/processed-data/dev.fr.bpeized"
      ],
      "execution_count": 0,
      "outputs": [
        {
          "output_type": "stream",
          "text": [
            "mkdir: cannot create directory ‘./data/processed-data’: File exists\n"
          ],
          "name": "stdout"
        }
      ]
    },
    {
      "cell_type": "code",
      "metadata": {
        "id": "uhhcCBDtWWOO",
        "colab_type": "code",
        "colab": {}
      },
      "source": [
        "!mkdir ./data/processed-data"
      ],
      "execution_count": 0,
      "outputs": []
    },
    {
      "cell_type": "code",
      "metadata": {
        "id": "foQx5NfcSxGU",
        "colab_type": "code",
        "colab": {}
      },
      "source": [
        ""
      ],
      "execution_count": 0,
      "outputs": []
    }
  ]
}